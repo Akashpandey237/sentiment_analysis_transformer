{
 "cells": [
  {
   "cell_type": "code",
   "execution_count": 1,
   "id": "a7f92f82",
   "metadata": {},
   "outputs": [
    {
     "name": "stdout",
     "output_type": "stream",
     "text": [
      "Downloading data from https://storage.googleapis.com/tensorflow/tf-keras-datasets/imdb.npz\n",
      "17464789/17464789 [==============================] - 4s 0us/step\n",
      "Epoch 1/5\n",
      "782/782 [==============================] - 77s 93ms/step - loss: 0.3924 - accuracy: 0.8161\n",
      "Epoch 2/5\n",
      "782/782 [==============================] - 71s 91ms/step - loss: 0.2288 - accuracy: 0.9110\n",
      "Epoch 3/5\n",
      "782/782 [==============================] - 73s 94ms/step - loss: 0.1469 - accuracy: 0.9455\n",
      "Epoch 4/5\n",
      "782/782 [==============================] - 73s 93ms/step - loss: 0.0860 - accuracy: 0.9696\n",
      "Epoch 5/5\n",
      "782/782 [==============================] - 77s 99ms/step - loss: 0.0570 - accuracy: 0.9797\n",
      "782/782 [==============================] - 24s 29ms/step - loss: 0.7218 - accuracy: 0.8526\n"
     ]
    },
    {
     "data": {
      "text/plain": [
       "[0.7217611074447632, 0.8525599837303162]"
      ]
     },
     "execution_count": 1,
     "metadata": {},
     "output_type": "execute_result"
    }
   ],
   "source": [
    "import tensorflow as tf\n",
    "\n",
    "# Load the dataset\n",
    "(x_train, y_train), (x_test, y_test) = tf.keras.datasets.imdb.load_data(num_words=10000)\n",
    "\n",
    "# Preprocess the data\n",
    "x_train = tf.keras.preprocessing.sequence.pad_sequences(x_train, maxlen=128)\n",
    "x_test = tf.keras.preprocessing.sequence.pad_sequences(x_test, maxlen=128)\n",
    "\n",
    "# Define the model\n",
    "model = tf.keras.models.Sequential([\n",
    "  tf.keras.layers.Embedding(10000, 128),\n",
    "  tf.keras.layers.Bidirectional(tf.keras.layers.LSTM(64)),\n",
    "  tf.keras.layers.Dense(64, activation='relu'),\n",
    "  tf.keras.layers.Dense(1, activation='sigmoid')\n",
    "])\n",
    "\n",
    "# Compile the model\n",
    "model.compile(loss='binary_crossentropy', optimizer='adam', metrics=['accuracy'])\n",
    "\n",
    "# Train the model\n",
    "model.fit(x_train, y_train, epochs=5)\n",
    "\n",
    "# Evaluate the model\n",
    "model.evaluate(x_test, y_test)"
   ]
  },
  {
   "cell_type": "code",
   "execution_count": null,
   "id": "4360870f",
   "metadata": {},
   "outputs": [
    {
     "name": "stdout",
     "output_type": "stream",
     "text": [
      "Model: \"sequential_1\"\n",
      "_________________________________________________________________\n",
      " Layer (type)                Output Shape              Param #   \n",
      "=================================================================\n",
      " embedding_1 (Embedding)     (None, 256, 256)          2560000   \n",
      "                                                                 \n",
      " bidirectional_1 (Bidirecti  (None, 256, 256)          394240    \n",
      " onal)                                                           \n",
      "                                                                 \n",
      " bidirectional_2 (Bidirecti  (None, 128)               164352    \n",
      " onal)                                                           \n",
      "                                                                 \n",
      " dense_2 (Dense)             (None, 128)               16512     \n",
      "                                                                 \n",
      " dropout (Dropout)           (None, 128)               0         \n",
      "                                                                 \n",
      " dense_3 (Dense)             (None, 64)                8256      \n",
      "                                                                 \n",
      " dropout_1 (Dropout)         (None, 64)                0         \n",
      "                                                                 \n",
      " dense_4 (Dense)             (None, 1)                 65        \n",
      "                                                                 \n",
      "=================================================================\n",
      "Total params: 3143425 (11.99 MB)\n",
      "Trainable params: 3143425 (11.99 MB)\n",
      "Non-trainable params: 0 (0.00 Byte)\n",
      "_________________________________________________________________\n",
      "Epoch 1/5\n",
      "463/625 [=====================>........] - ETA: 3:09 - loss: 0.5574 - accuracy: 0.7204"
     ]
    }
   ],
   "source": [
    "import tensorflow as tf\n",
    "\n",
    "# Load the dataset\n",
    "(x_train, y_train), (x_test, y_test) = tf.keras.datasets.imdb.load_data(num_words=10000)\n",
    "\n",
    "# Preprocess the data\n",
    "x_train = tf.keras.preprocessing.sequence.pad_sequences(x_train, maxlen=256)  # Increased maxlen\n",
    "x_test = tf.keras.preprocessing.sequence.pad_sequences(x_test, maxlen=256)    # Increased maxlen\n",
    "\n",
    "# Define the model\n",
    "model = tf.keras.models.Sequential([\n",
    "  tf.keras.layers.Embedding(input_dim=10000, output_dim=256, input_length=256),  # Increased output_dim and input_length\n",
    "  tf.keras.layers.Bidirectional(tf.keras.layers.LSTM(128, return_sequences=True)),  # Increased LSTM units and added return_sequences\n",
    "  tf.keras.layers.Bidirectional(tf.keras.layers.LSTM(64)),                        # Another layer with reduced units\n",
    "  tf.keras.layers.Dense(128, activation='relu'),                                   # Added a Dense layer\n",
    "  tf.keras.layers.Dropout(0.5),                                                   # Added Dropout for regularization\n",
    "  tf.keras.layers.Dense(64, activation='relu'),\n",
    "  tf.keras.layers.Dropout(0.5),\n",
    "  tf.keras.layers.Dense(1, activation='sigmoid')\n",
    "])\n",
    "\n",
    "# Compile the model\n",
    "model.compile(loss='binary_crossentropy', optimizer='adam', metrics=['accuracy'])\n",
    "\n",
    "# Print model summary\n",
    "model.summary()\n",
    "\n",
    "# Train the model\n",
    "model.fit(x_train, y_train, epochs=5, validation_split=0.2)\n",
    "\n",
    "# Evaluate the model\n",
    "model.evaluate(x_test, y_test)\n"
   ]
  },
  {
   "cell_type": "code",
   "execution_count": null,
   "id": "c0798ca9",
   "metadata": {},
   "outputs": [],
   "source": []
  }
 ],
 "metadata": {
  "kernelspec": {
   "display_name": "Python 3 (ipykernel)",
   "language": "python",
   "name": "python3"
  },
  "language_info": {
   "codemirror_mode": {
    "name": "ipython",
    "version": 3
   },
   "file_extension": ".py",
   "mimetype": "text/x-python",
   "name": "python",
   "nbconvert_exporter": "python",
   "pygments_lexer": "ipython3",
   "version": "3.10.9"
  }
 },
 "nbformat": 4,
 "nbformat_minor": 5
}
